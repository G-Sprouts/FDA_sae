{
 "cells": [
  {
   "cell_type": "code",
   "execution_count": 1,
   "metadata": {},
   "outputs": [],
   "source": [
    "import pandas as pd\n",
    "import time"
   ]
  },
  {
   "cell_type": "markdown",
   "metadata": {},
   "source": [
    "This notebook is for the drug/prescription information."
   ]
  },
  {
   "cell_type": "code",
   "execution_count": 2,
   "metadata": {},
   "outputs": [
    {
     "name": "stderr",
     "output_type": "stream",
     "text": [
      "C:\\Users\\G-Sprouts\\anaconda3\\lib\\site-packages\\IPython\\core\\interactiveshell.py:3146: DtypeWarning: Columns (14,16) have mixed types.Specify dtype option on import or set low_memory=False.\n",
      "  has_raised = await self.run_ast_nodes(code_ast.body, cell_name,\n"
     ]
    }
   ],
   "source": [
    "drug_file = pd.read_csv('DRUG20Q3.txt', delimiter='$')"
   ]
  },
  {
   "cell_type": "code",
   "execution_count": 3,
   "metadata": {},
   "outputs": [
    {
     "data": {
      "text/plain": [
       "ZANTAC                                                                    36299\n",
       "PREDNISONE.                                                               20093\n",
       "METHOTREXATE.                                                             19433\n",
       "REVLIMID                                                                  18076\n",
       "HUMIRA                                                                    18073\n",
       "                                                                          ...  \n",
       "PROCARDIA XL                          /00340701/                              1\n",
       "LANTISEPTIC                                                                   1\n",
       "UNSPECIFIED ALLERGY MEDICATIONS                                               1\n",
       "cyclophosphamid                                                               1\n",
       "AMOXICILLIN AND CLAVULANATE POTASSIUM [AMOXICILLIN TRIHYDRATE;CLAVULAN        1\n",
       "Name: drugname, Length: 64668, dtype: int64"
      ]
     },
     "execution_count": 3,
     "metadata": {},
     "output_type": "execute_result"
    }
   ],
   "source": [
    "drug_file.drugname.value_counts()"
   ]
  },
  {
   "cell_type": "code",
   "execution_count": 4,
   "metadata": {},
   "outputs": [
    {
     "data": {
      "text/plain": [
       "U    666532\n",
       "D    200547\n",
       "Y    132982\n",
       "N     28688\n",
       "Name: dechal, dtype: int64"
      ]
     },
     "execution_count": 4,
     "metadata": {},
     "output_type": "execute_result"
    }
   ],
   "source": [
    "drug_file.dechal.value_counts()"
   ]
  },
  {
   "cell_type": "code",
   "execution_count": 5,
   "metadata": {},
   "outputs": [],
   "source": [
    "null_df = pd.DataFrame(drug_file.isnull().sum().sort_values(ascending=False)).reset_index()\n",
    "null_df.columns = [['column', 'missing_values']]"
   ]
  },
  {
   "cell_type": "code",
   "execution_count": 6,
   "metadata": {},
   "outputs": [
    {
     "data": {
      "text/html": [
       "<div>\n",
       "<style scoped>\n",
       "    .dataframe tbody tr th:only-of-type {\n",
       "        vertical-align: middle;\n",
       "    }\n",
       "\n",
       "    .dataframe tbody tr th {\n",
       "        vertical-align: top;\n",
       "    }\n",
       "\n",
       "    .dataframe thead tr th {\n",
       "        text-align: left;\n",
       "    }\n",
       "</style>\n",
       "<table border=\"1\" class=\"dataframe\">\n",
       "  <thead>\n",
       "    <tr>\n",
       "      <th></th>\n",
       "      <th>column</th>\n",
       "      <th>missing_values</th>\n",
       "    </tr>\n",
       "  </thead>\n",
       "  <tbody>\n",
       "    <tr>\n",
       "      <th>0</th>\n",
       "      <td>exp_dt</td>\n",
       "      <td>1889333</td>\n",
       "    </tr>\n",
       "    <tr>\n",
       "      <th>1</th>\n",
       "      <td>cum_dose_unit</td>\n",
       "      <td>1847041</td>\n",
       "    </tr>\n",
       "    <tr>\n",
       "      <th>2</th>\n",
       "      <td>cum_dose_chr</td>\n",
       "      <td>1845945</td>\n",
       "    </tr>\n",
       "    <tr>\n",
       "      <th>3</th>\n",
       "      <td>rechal</td>\n",
       "      <td>1600785</td>\n",
       "    </tr>\n",
       "    <tr>\n",
       "      <th>4</th>\n",
       "      <td>lot_num</td>\n",
       "      <td>1493003</td>\n",
       "    </tr>\n",
       "    <tr>\n",
       "      <th>5</th>\n",
       "      <td>dose_freq</td>\n",
       "      <td>1465144</td>\n",
       "    </tr>\n",
       "    <tr>\n",
       "      <th>6</th>\n",
       "      <td>nda_num</td>\n",
       "      <td>1262789</td>\n",
       "    </tr>\n",
       "    <tr>\n",
       "      <th>7</th>\n",
       "      <td>dose_unit</td>\n",
       "      <td>1158789</td>\n",
       "    </tr>\n",
       "    <tr>\n",
       "      <th>8</th>\n",
       "      <td>dose_amt</td>\n",
       "      <td>1158242</td>\n",
       "    </tr>\n",
       "    <tr>\n",
       "      <th>9</th>\n",
       "      <td>dose_form</td>\n",
       "      <td>1130042</td>\n",
       "    </tr>\n",
       "    <tr>\n",
       "      <th>10</th>\n",
       "      <td>dechal</td>\n",
       "      <td>866404</td>\n",
       "    </tr>\n",
       "    <tr>\n",
       "      <th>11</th>\n",
       "      <td>dose_vbm</td>\n",
       "      <td>795122</td>\n",
       "    </tr>\n",
       "    <tr>\n",
       "      <th>12</th>\n",
       "      <td>route</td>\n",
       "      <td>572258</td>\n",
       "    </tr>\n",
       "    <tr>\n",
       "      <th>13</th>\n",
       "      <td>prod_ai</td>\n",
       "      <td>37053</td>\n",
       "    </tr>\n",
       "    <tr>\n",
       "      <th>14</th>\n",
       "      <td>drugname</td>\n",
       "      <td>151</td>\n",
       "    </tr>\n",
       "    <tr>\n",
       "      <th>15</th>\n",
       "      <td>val_vbm</td>\n",
       "      <td>0</td>\n",
       "    </tr>\n",
       "    <tr>\n",
       "      <th>16</th>\n",
       "      <td>role_cod</td>\n",
       "      <td>0</td>\n",
       "    </tr>\n",
       "    <tr>\n",
       "      <th>17</th>\n",
       "      <td>drug_seq</td>\n",
       "      <td>0</td>\n",
       "    </tr>\n",
       "    <tr>\n",
       "      <th>18</th>\n",
       "      <td>caseid</td>\n",
       "      <td>0</td>\n",
       "    </tr>\n",
       "    <tr>\n",
       "      <th>19</th>\n",
       "      <td>primaryid</td>\n",
       "      <td>0</td>\n",
       "    </tr>\n",
       "  </tbody>\n",
       "</table>\n",
       "</div>"
      ],
      "text/plain": [
       "           column missing_values\n",
       "0          exp_dt        1889333\n",
       "1   cum_dose_unit        1847041\n",
       "2    cum_dose_chr        1845945\n",
       "3          rechal        1600785\n",
       "4         lot_num        1493003\n",
       "5       dose_freq        1465144\n",
       "6         nda_num        1262789\n",
       "7       dose_unit        1158789\n",
       "8        dose_amt        1158242\n",
       "9       dose_form        1130042\n",
       "10         dechal         866404\n",
       "11       dose_vbm         795122\n",
       "12          route         572258\n",
       "13        prod_ai          37053\n",
       "14       drugname            151\n",
       "15        val_vbm              0\n",
       "16       role_cod              0\n",
       "17       drug_seq              0\n",
       "18         caseid              0\n",
       "19      primaryid              0"
      ]
     },
     "execution_count": 6,
     "metadata": {},
     "output_type": "execute_result"
    }
   ],
   "source": [
    "null_df"
   ]
  },
  {
   "cell_type": "code",
   "execution_count": 7,
   "metadata": {},
   "outputs": [
    {
     "name": "stdout",
     "output_type": "stream",
     "text": [
      "<class 'pandas.core.frame.DataFrame'>\n",
      "RangeIndex: 1895153 entries, 0 to 1895152\n",
      "Data columns (total 20 columns):\n",
      " #   Column         Dtype  \n",
      "---  ------         -----  \n",
      " 0   primaryid      int64  \n",
      " 1   caseid         int64  \n",
      " 2   drug_seq       int64  \n",
      " 3   role_cod       object \n",
      " 4   drugname       object \n",
      " 5   prod_ai        object \n",
      " 6   val_vbm        int64  \n",
      " 7   route          object \n",
      " 8   dose_vbm       object \n",
      " 9   cum_dose_chr   float64\n",
      " 10  cum_dose_unit  object \n",
      " 11  dechal         object \n",
      " 12  rechal         object \n",
      " 13  lot_num        object \n",
      " 14  exp_dt         object \n",
      " 15  nda_num        float64\n",
      " 16  dose_amt       object \n",
      " 17  dose_unit      object \n",
      " 18  dose_form      object \n",
      " 19  dose_freq      object \n",
      "dtypes: float64(2), int64(4), object(14)\n",
      "memory usage: 289.2+ MB\n"
     ]
    }
   ],
   "source": [
    "drug_file.info()"
   ]
  },
  {
   "cell_type": "code",
   "execution_count": 8,
   "metadata": {},
   "outputs": [],
   "source": [
    "new_drug_df = drug_file[['primaryid', 'caseid', 'drug_seq', 'role_cod', 'drugname', 'route', 'dose_vbm']]"
   ]
  },
  {
   "cell_type": "code",
   "execution_count": 9,
   "metadata": {},
   "outputs": [
    {
     "data": {
      "text/html": [
       "<div>\n",
       "<style scoped>\n",
       "    .dataframe tbody tr th:only-of-type {\n",
       "        vertical-align: middle;\n",
       "    }\n",
       "\n",
       "    .dataframe tbody tr th {\n",
       "        vertical-align: top;\n",
       "    }\n",
       "\n",
       "    .dataframe thead th {\n",
       "        text-align: right;\n",
       "    }\n",
       "</style>\n",
       "<table border=\"1\" class=\"dataframe\">\n",
       "  <thead>\n",
       "    <tr style=\"text-align: right;\">\n",
       "      <th></th>\n",
       "      <th>primaryid</th>\n",
       "      <th>caseid</th>\n",
       "      <th>drug_seq</th>\n",
       "      <th>role_cod</th>\n",
       "      <th>drugname</th>\n",
       "      <th>route</th>\n",
       "      <th>dose_vbm</th>\n",
       "    </tr>\n",
       "  </thead>\n",
       "  <tbody>\n",
       "    <tr>\n",
       "      <th>0</th>\n",
       "      <td>100046943</td>\n",
       "      <td>10004694</td>\n",
       "      <td>1</td>\n",
       "      <td>PS</td>\n",
       "      <td>LIPITOR</td>\n",
       "      <td>Oral</td>\n",
       "      <td>20 MG, DAILY</td>\n",
       "    </tr>\n",
       "    <tr>\n",
       "      <th>1</th>\n",
       "      <td>100046943</td>\n",
       "      <td>10004694</td>\n",
       "      <td>2</td>\n",
       "      <td>SS</td>\n",
       "      <td>LIPITOR</td>\n",
       "      <td>Oral</td>\n",
       "      <td>20 MG, DAILY</td>\n",
       "    </tr>\n",
       "    <tr>\n",
       "      <th>2</th>\n",
       "      <td>100046943</td>\n",
       "      <td>10004694</td>\n",
       "      <td>3</td>\n",
       "      <td>SS</td>\n",
       "      <td>ATORVASTATIN CALCIUM.</td>\n",
       "      <td>Oral</td>\n",
       "      <td>20 MG, DAILY</td>\n",
       "    </tr>\n",
       "    <tr>\n",
       "      <th>3</th>\n",
       "      <td>100046943</td>\n",
       "      <td>10004694</td>\n",
       "      <td>4</td>\n",
       "      <td>SS</td>\n",
       "      <td>ATORVASTATIN CALCIUM.</td>\n",
       "      <td>Oral</td>\n",
       "      <td>20 MG, DAILY</td>\n",
       "    </tr>\n",
       "    <tr>\n",
       "      <th>4</th>\n",
       "      <td>100046943</td>\n",
       "      <td>10004694</td>\n",
       "      <td>5</td>\n",
       "      <td>C</td>\n",
       "      <td>SIMVASTATIN.</td>\n",
       "      <td>NaN</td>\n",
       "      <td>40 MG, DAILY</td>\n",
       "    </tr>\n",
       "    <tr>\n",
       "      <th>...</th>\n",
       "      <td>...</td>\n",
       "      <td>...</td>\n",
       "      <td>...</td>\n",
       "      <td>...</td>\n",
       "      <td>...</td>\n",
       "      <td>...</td>\n",
       "      <td>...</td>\n",
       "    </tr>\n",
       "    <tr>\n",
       "      <th>1895148</th>\n",
       "      <td>999913118</td>\n",
       "      <td>9999131</td>\n",
       "      <td>8</td>\n",
       "      <td>C</td>\n",
       "      <td>IMIQUIMOD.</td>\n",
       "      <td>Unknown</td>\n",
       "      <td>NaN</td>\n",
       "    </tr>\n",
       "    <tr>\n",
       "      <th>1895149</th>\n",
       "      <td>999913118</td>\n",
       "      <td>9999131</td>\n",
       "      <td>9</td>\n",
       "      <td>C</td>\n",
       "      <td>TESTOSTERONE CYPIONATE.</td>\n",
       "      <td>Unknown</td>\n",
       "      <td>NaN</td>\n",
       "    </tr>\n",
       "    <tr>\n",
       "      <th>1895150</th>\n",
       "      <td>999913118</td>\n",
       "      <td>9999131</td>\n",
       "      <td>10</td>\n",
       "      <td>C</td>\n",
       "      <td>GARLIC.</td>\n",
       "      <td>Unknown</td>\n",
       "      <td>NaN</td>\n",
       "    </tr>\n",
       "    <tr>\n",
       "      <th>1895151</th>\n",
       "      <td>999913118</td>\n",
       "      <td>9999131</td>\n",
       "      <td>11</td>\n",
       "      <td>C</td>\n",
       "      <td>CLOBETASOL PROPIONATE.</td>\n",
       "      <td>Unknown</td>\n",
       "      <td>NaN</td>\n",
       "    </tr>\n",
       "    <tr>\n",
       "      <th>1895152</th>\n",
       "      <td>999913118</td>\n",
       "      <td>9999131</td>\n",
       "      <td>12</td>\n",
       "      <td>C</td>\n",
       "      <td>SORIATANE</td>\n",
       "      <td>Unknown</td>\n",
       "      <td>NaN</td>\n",
       "    </tr>\n",
       "  </tbody>\n",
       "</table>\n",
       "<p>1895153 rows × 7 columns</p>\n",
       "</div>"
      ],
      "text/plain": [
       "         primaryid    caseid  drug_seq role_cod                 drugname  \\\n",
       "0        100046943  10004694         1       PS                  LIPITOR   \n",
       "1        100046943  10004694         2       SS                  LIPITOR   \n",
       "2        100046943  10004694         3       SS    ATORVASTATIN CALCIUM.   \n",
       "3        100046943  10004694         4       SS    ATORVASTATIN CALCIUM.   \n",
       "4        100046943  10004694         5        C             SIMVASTATIN.   \n",
       "...            ...       ...       ...      ...                      ...   \n",
       "1895148  999913118   9999131         8        C               IMIQUIMOD.   \n",
       "1895149  999913118   9999131         9        C  TESTOSTERONE CYPIONATE.   \n",
       "1895150  999913118   9999131        10        C                  GARLIC.   \n",
       "1895151  999913118   9999131        11        C   CLOBETASOL PROPIONATE.   \n",
       "1895152  999913118   9999131        12        C                SORIATANE   \n",
       "\n",
       "           route      dose_vbm  \n",
       "0           Oral  20 MG, DAILY  \n",
       "1           Oral  20 MG, DAILY  \n",
       "2           Oral  20 MG, DAILY  \n",
       "3           Oral  20 MG, DAILY  \n",
       "4            NaN  40 MG, DAILY  \n",
       "...          ...           ...  \n",
       "1895148  Unknown           NaN  \n",
       "1895149  Unknown           NaN  \n",
       "1895150  Unknown           NaN  \n",
       "1895151  Unknown           NaN  \n",
       "1895152  Unknown           NaN  \n",
       "\n",
       "[1895153 rows x 7 columns]"
      ]
     },
     "execution_count": 9,
     "metadata": {},
     "output_type": "execute_result"
    }
   ],
   "source": [
    "new_drug_df"
   ]
  },
  {
   "cell_type": "code",
   "execution_count": 10,
   "metadata": {},
   "outputs": [
    {
     "name": "stderr",
     "output_type": "stream",
     "text": [
      "C:\\Users\\G-Sprouts\\anaconda3\\lib\\site-packages\\pandas\\core\\generic.py:5168: SettingWithCopyWarning: \n",
      "A value is trying to be set on a copy of a slice from a DataFrame.\n",
      "Try using .loc[row_indexer,col_indexer] = value instead\n",
      "\n",
      "See the caveats in the documentation: https://pandas.pydata.org/pandas-docs/stable/user_guide/indexing.html#returning-a-view-versus-a-copy\n",
      "  self[name] = value\n"
     ]
    }
   ],
   "source": [
    "new_drug_df.role_cod = new_drug_df.role_cod.astype(str)"
   ]
  },
  {
   "cell_type": "code",
   "execution_count": 11,
   "metadata": {},
   "outputs": [
    {
     "data": {
      "text/plain": [
       "primaryid     int64\n",
       "caseid        int64\n",
       "drug_seq      int64\n",
       "role_cod     object\n",
       "drugname     object\n",
       "route        object\n",
       "dose_vbm     object\n",
       "dtype: object"
      ]
     },
     "execution_count": 11,
     "metadata": {},
     "output_type": "execute_result"
    }
   ],
   "source": [
    "new_drug_df.dtypes"
   ]
  },
  {
   "cell_type": "code",
   "execution_count": 22,
   "metadata": {},
   "outputs": [],
   "source": [
    "primary = new_drug_df[new_drug_df.role_cod == 'PS']\n",
    "secondary = new_drug_df[new_drug_df.role_cod == 'SS']"
   ]
  },
  {
   "cell_type": "code",
   "execution_count": 23,
   "metadata": {},
   "outputs": [],
   "source": [
    "primary = primary[['caseid', 'drugname', 'dose_vbm']]\n",
    "secondary = secondary[['caseid', 'drugname', 'dose_vbm']]"
   ]
  },
  {
   "cell_type": "code",
   "execution_count": 24,
   "metadata": {},
   "outputs": [],
   "source": [
    "primary = primary.reset_index(drop=True)\n",
    "secondary = secondary.reset_index(drop=True)"
   ]
  },
  {
   "cell_type": "code",
   "execution_count": 20,
   "metadata": {},
   "outputs": [
    {
     "data": {
      "text/plain": [
       "ZANTAC                                        23064\n",
       "RANITIDINE.                                    9929\n",
       "HUMIRA                                         7629\n",
       "REVLIMID                                       6576\n",
       "COSENTYX                                       6052\n",
       "                                              ...  \n",
       "MULTIVITAMINS                                     1\n",
       "Paracetamol 10 mg/ml Solution for Infusion        1\n",
       "ATENOLOL 50 MG 30 COMPRIMIDOS                     1\n",
       "RADIATION                                         1\n",
       "INTERFERON ALFA?2A                                1\n",
       "Name: drugname, Length: 11690, dtype: int64"
      ]
     },
     "execution_count": 20,
     "metadata": {},
     "output_type": "execute_result"
    }
   ],
   "source": [
    "primary.drugname.value_counts()"
   ]
  },
  {
   "cell_type": "code",
   "execution_count": 29,
   "metadata": {},
   "outputs": [
    {
     "data": {
      "text/plain": [
       "ZANTAC                                                                    12416\n",
       "REVLIMID                                                                  11292\n",
       "INFLECTRA                                                                 10678\n",
       "AVONEX                                                                    10085\n",
       "METHOTREXATE.                                                              9761\n",
       "                                                                          ...  \n",
       "HUMAN IMMUNOGLBULIN                                                           1\n",
       "GUANFACINE HCL TEVA                                                           1\n",
       "TRANXILIUM 50 MG COMPRIMIDOS RECUBIERTOS CON PELICULA , 20 COMPRIMIDOS        1\n",
       "SALICYLATE                                                                    1\n",
       "SLO?NIACIN                                                                    1\n",
       "Name: drugname, Length: 19742, dtype: int64"
      ]
     },
     "execution_count": 29,
     "metadata": {},
     "output_type": "execute_result"
    }
   ],
   "source": [
    "secondary.drugname.value_counts()"
   ]
  },
  {
   "cell_type": "code",
   "execution_count": null,
   "metadata": {},
   "outputs": [],
   "source": []
  }
 ],
 "metadata": {
  "kernelspec": {
   "display_name": "Python 3",
   "language": "python",
   "name": "python3"
  },
  "language_info": {
   "codemirror_mode": {
    "name": "ipython",
    "version": 3
   },
   "file_extension": ".py",
   "mimetype": "text/x-python",
   "name": "python",
   "nbconvert_exporter": "python",
   "pygments_lexer": "ipython3",
   "version": "3.8.5"
  }
 },
 "nbformat": 4,
 "nbformat_minor": 4
}
