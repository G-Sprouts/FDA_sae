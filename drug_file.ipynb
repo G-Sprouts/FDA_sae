{
 "cells": [
  {
   "cell_type": "markdown",
   "metadata": {},
   "source": [
    "# This notebook is for the drug/prescription information."
   ]
  },
  {
   "cell_type": "code",
   "execution_count": null,
   "metadata": {},
   "outputs": [],
   "source": [
    "import pandas as pd\n",
    "import numpy as np\n",
    "import time"
   ]
  },
  {
   "cell_type": "code",
   "execution_count": null,
   "metadata": {},
   "outputs": [],
   "source": [
    "drug_file = pd.read_csv('DRUG20Q3.txt', delimiter='$')"
   ]
  },
  {
   "cell_type": "code",
   "execution_count": null,
   "metadata": {},
   "outputs": [],
   "source": [
    "### quantify total missing values \n",
    "\n",
    "\n",
    "null_df = pd.DataFrame(drug_file.isnull().sum().sort_values(ascending=False)).reset_index()\n",
    "null_df.columns = [['column', 'missing_values']]\n",
    "\n",
    "null_df"
   ]
  },
  {
   "cell_type": "code",
   "execution_count": null,
   "metadata": {},
   "outputs": [],
   "source": [
    "### identify data types \n",
    "\n",
    "drug_file.info()"
   ]
  },
  {
   "cell_type": "markdown",
   "metadata": {},
   "source": [
    "# Handling Missing Values"
   ]
  },
  {
   "cell_type": "code",
   "execution_count": null,
   "metadata": {},
   "outputs": [],
   "source": [
    "### Convert all values to string, then match indicies for all nan and non-nan values \n",
    "### into seperate series'\n",
    "\n",
    "\n",
    "\n",
    "drug_file.prod_ai = drug_file.prod_ai.astype(str)\n",
    "\n",
    "indicies = drug_file[drug_file.prod_ai != 'nan'].index\n",
    "indicies2 = drug_file[drug_file.prod_ai == 'nan'].index\n",
    "\n",
    "present = drug_file.prod_ai.loc[indicies]\n",
    "needs_work = drug_file.prod_ai.loc[indicies2]\n",
    "\n"
   ]
  },
  {
   "cell_type": "code",
   "execution_count": null,
   "metadata": {},
   "outputs": [],
   "source": [
    "### Create DataFrame of 'nan' values, and attach teh series of matching indicies for which the drugname is present.\n",
    "### Needs work...\n",
    "\n",
    "\n",
    "\n",
    "needs_work_df = pd.DataFrame(needs_work)\n",
    "needs_work_df['drugname'] = drug_file.drugname.loc[indicies2]\n",
    "\n",
    "needs_work_df.drugname.value_counts()\n"
   ]
  },
  {
   "cell_type": "markdown",
   "metadata": {},
   "source": [
    "# Custom Table Creation"
   ]
  },
  {
   "cell_type": "code",
   "execution_count": null,
   "metadata": {},
   "outputs": [],
   "source": [
    "new_drug_df = drug_file[['primaryid', 'caseid', 'drug_seq', 'role_cod', 'drugname', 'prod_ai', 'val_vbm', 'route', 'dose_vbm', 'cum_dose_chr']]\n",
    "\n",
    "drugs = pd.DataFrame()"
   ]
  },
  {
   "cell_type": "code",
   "execution_count": null,
   "metadata": {},
   "outputs": [],
   "source": [
    "### for loop for determining the amount of 'PS' (Primary suspect), 'SS' (Secondary Suspects), 'C', (concamitants), \n",
    "### or 'I' (Interacting) medications present for every unique CaseID ***6.5hr runtime***\n",
    "\n",
    "start_time = time.time()\n",
    "p = 0\n",
    "s = 0\n",
    "c = 0\n",
    "i = 0\n",
    "\n",
    "\n",
    "for x,j in enumerate(new_drug_df.caseid.unique()):\n",
    "    df = new_drug_df[new_drug_df.caseid == j]\n",
    "\n",
    "\n",
    "    for y in range(len(df)):\n",
    "        if df.iloc[y,3] == 'PS':\n",
    "            p += 1\n",
    "        elif df.iloc[y,3] == 'SS':\n",
    "            s += 1\n",
    "        elif df.iloc[y,3] == 'c':\n",
    "            c += 1\n",
    "        else:\n",
    "            i += 1\n",
    "\n",
    "    drugs.loc[x, 'CaseID'] = j\n",
    "    drugs.loc[x, 'Primary'] = p\n",
    "    drugs.loc[x, 'Secondary'] = s\n",
    "    drugs.loc[x, 'Concamitant'] = c\n",
    "    drugs.loc[x, 'Interacting'] = i\n",
    "        \n",
    "    p,s,c,i = 0,0,0,0\n",
    "end_time = time.time()\n",
    "\n",
    "total_time = (end_time - start_time) / 60\n",
    "total_time / 60"
   ]
  },
  {
   "cell_type": "markdown",
   "metadata": {},
   "source": [
    "# Mapping drugnames into numerical classes"
   ]
  },
  {
   "cell_type": "code",
   "execution_count": null,
   "metadata": {},
   "outputs": [],
   "source": [
    "class_df = pd.DataFrame(columns=['drugname', 'class_id', 'class', 'indication'])\n",
    "class_df.drugname = new_drug_df.drugname\n"
   ]
  },
  {
   "cell_type": "code",
   "execution_count": null,
   "metadata": {},
   "outputs": [],
   "source": [
    "### Convert all values in 'prod_ai' column to string values, and then separate non-nan values out for class mapping\n",
    "\n",
    "\n",
    "\n",
    "drug_file.prod_ai = drug_file.prod_ai.astype(str)\n",
    "indicies = drug_file[drug_file.prod_ai != 'nan'].index\n",
    "present = drug_file.prod_ai.loc[indicies]"
   ]
  },
  {
   "cell_type": "code",
   "execution_count": null,
   "metadata": {},
   "outputs": [],
   "source": [
    "drug_file[['drugname', 'prod_ai']]"
   ]
  },
  {
   "cell_type": "code",
   "execution_count": null,
   "metadata": {},
   "outputs": [],
   "source": [
    "present"
   ]
  },
  {
   "cell_type": "code",
   "execution_count": null,
   "metadata": {},
   "outputs": [],
   "source": [
    "\n",
    "### using string methods 'startswith' and 'endswith', filter each product-active-ingredient to help map classes for each \n",
    "### medication   \n",
    "\n",
    "for x,y in zip(present,indicies):\n",
    "    if x.endswith('MAB') == True:\n",
    "        class_df.loc[y, 'class_id'] = 1\n",
    "        class_df.loc[y, 'class'] = 'monoclonal_antibody'\n",
    "        class_df.loc[y, 'indication'] = ''\n",
    "    elif x.endswith('PRIL'):\n",
    "        class_df.loc[y, 'class_id'] = 2\n",
    "        class_df.loc[y, 'class'] = 'ACE_inhibitor'\n",
    "        class_df.loc[y, 'indication'] = 'hypertenstion' \n",
    "    elif x.endswith('TIDINE'):\n",
    "        class_df.loc[y, 'class_id'] = 3\n",
    "        class_df.loc[y, 'class'] = '2nd_gen_antihistamine'\n",
    "        class_df.loc[y, 'indication'] = 'allergy'\n",
    "    elif x.endswith('STATIN', 0, 12) or x.endswith('STATIN'):\n",
    "        class_df.loc[y, 'class_id'] = 4\n",
    "        class_df.loc[y, 'class'] = 'HMG-CoA reductase inhibitor'\n",
    "        class_df.loc[y, 'indication'] = 'hyperlipidemia'\n",
    "    elif x.endswith('AZEPAM') or x.endswith('ZOLAM'):\n",
    "        class_df.loc[y, 'class_id'] = 5\n",
    "        class_df.loc[y, 'class'] = 'benzodiazepine'\n",
    "        class_df.loc[y, 'indication'] = 'anxiety'\n",
    "    elif x.endswith('AFIL'):\n",
    "        class_df.loc[y, 'class_id'] = 6\n",
    "        class_df.loc[y, 'class'] = 'phosphodiesterase inhibitor'\n",
    "        class_df.loc[y, 'indication'] = 'erectile dysfunction, hypertension'\n",
    "    elif x.endswith('ANE'):\n",
    "        class_df.loc[y, 'class_id'] = 7\n",
    "        class_df.loc[y, 'class'] = 'inhaled anestetics'\n",
    "        class_df.loc[y, 'indication'] = 'anesthesia'\n",
    "    elif x.endswith('ARTAN'):\n",
    "        class_df.loc[y, 'class_id'] = 8\n",
    "        class_df.loc[y, 'class'] = 'angiotension receptor blocker'\n",
    "        class_df.loc[y, 'indication'] = 'hypertension'\n",
    "    elif x.endswith('AZINE'):\n",
    "        class_df.loc[y, 'class_id'] = 9\n",
    "        class_df.loc[y, 'class'] = 'phenothiazines'\n",
    "        class_df.loc[y, 'indication'] = 'antipsychotic'\n",
    "    elif x.endswith('AZOLE'):\n",
    "        class_df.loc[y, 'class_id'] = 10\n",
    "        class_df.loc[y, 'class'] = 'azole-antifungal'\n",
    "        class_df.loc[y, 'indication'] = 'antifungal'"
   ]
  },
  {
   "cell_type": "code",
   "execution_count": null,
   "metadata": {},
   "outputs": [],
   "source": [
    "class_df.class_id.value_counts()"
   ]
  },
  {
   "cell_type": "code",
   "execution_count": null,
   "metadata": {},
   "outputs": [],
   "source": [
    "### change data type of CaseID from float to integer\n",
    "\n",
    "drugs.CaseID = drugs.CaseID.astype(int)\n",
    "\n",
    "### export dataframe to .csv file for manipulation later\n",
    "\n",
    "drugs.to_csv('drugs.csv', index=False)"
   ]
  },
  {
   "cell_type": "code",
   "execution_count": null,
   "metadata": {},
   "outputs": [],
   "source": [
    "### subset DataFrame with caseid and whether the reaction stopped when drug therapy was stopped (dechal) and if the reaction\n",
    "### began again after drug therapy was restarted (rechal).\n",
    "\n",
    "\n",
    "subside_relapse = drug_file[['caseid', 'dechal', 'rechal']]"
   ]
  },
  {
   "cell_type": "code",
   "execution_count": null,
   "metadata": {},
   "outputs": [],
   "source": [
    "### The majority of the observations were of class 'Unknown', followed by 'Does Not Apply'\n",
    "### There were 866404 null values also recorded\n",
    "\n",
    "\n",
    "subside_relapse.dechal.value_counts()"
   ]
  },
  {
   "cell_type": "code",
   "execution_count": null,
   "metadata": {},
   "outputs": [],
   "source": [
    "subside_relapse.dechal.isnull().sum()"
   ]
  },
  {
   "cell_type": "code",
   "execution_count": null,
   "metadata": {},
   "outputs": [],
   "source": [
    "### The majority of the observations were of class 'Unknown', followed at distance by 'Negative' and 'Does Not Apply'\n",
    "### There were 1600785 null values also recorded\n",
    "\n",
    "\n",
    "subside_relapse.rechal.value_counts()"
   ]
  },
  {
   "cell_type": "code",
   "execution_count": null,
   "metadata": {},
   "outputs": [],
   "source": [
    "subside_relapse.rechal.isnull().sum()"
   ]
  },
  {
   "cell_type": "markdown",
   "metadata": {},
   "source": [
    "# Examining Primary and Secondary suspect frequency"
   ]
  },
  {
   "cell_type": "code",
   "execution_count": null,
   "metadata": {},
   "outputs": [],
   "source": [
    "### Quantify each category\n",
    "\n",
    "new_drug_df.role_cod.value_counts()"
   ]
  },
  {
   "cell_type": "code",
   "execution_count": null,
   "metadata": {},
   "outputs": [],
   "source": [
    "### Separate Primary and Secondary suspects  for further investigation\n",
    "\n",
    "primary = new_drug_df[new_drug_df.role_cod == 'PS']\n",
    "secondary = new_drug_df[new_drug_df.role_cod == 'SS']"
   ]
  },
  {
   "cell_type": "code",
   "execution_count": null,
   "metadata": {},
   "outputs": [],
   "source": [
    "primary"
   ]
  },
  {
   "cell_type": "code",
   "execution_count": null,
   "metadata": {},
   "outputs": [],
   "source": [
    "### Choose features of interest to examine trends within each Primary and Secondary Suspect drug\n",
    "\n",
    "primary = primary[['caseid', 'drugname', 'prod_ai', 'val_vbm', 'dose_vbm', 'cum_dose_chr']]\n",
    "secondary = secondary[['caseid', 'drugname', 'dose_vbm']]"
   ]
  },
  {
   "cell_type": "code",
   "execution_count": null,
   "metadata": {},
   "outputs": [],
   "source": [
    "### reset index\n",
    "\n",
    "primary = primary.reset_index(drop=True)\n",
    "secondary = secondary.reset_index(drop=True)"
   ]
  },
  {
   "cell_type": "code",
   "execution_count": null,
   "metadata": {},
   "outputs": [],
   "source": [
    "### Interestingly enough, ZANTAC's generic formulation is referred to as RANITIDINE and they make up the top 2 spots on the \n",
    "### Primary suspect list. They may have high interactivity with other medications, or based on a patient's medication history,\n",
    "### ZANTAC (RANITIDINE) is likely to interact with their other medications\n",
    "\n",
    "primary.drugname.value_counts()"
   ]
  },
  {
   "cell_type": "code",
   "execution_count": null,
   "metadata": {},
   "outputs": [],
   "source": [
    "### ZANTAC is also listed as the most frequent Secondary medication of interest. One could reasonably say that taking ZANTAC\n",
    "### increases the likelihood of experiencing any SAE. \n",
    "\n",
    "secondary.drugname.value_counts()"
   ]
  },
  {
   "cell_type": "code",
   "execution_count": null,
   "metadata": {},
   "outputs": [],
   "source": [
    "primary[['drugname', 'dose_vbm', 'cum_dose_chr']]"
   ]
  },
  {
   "cell_type": "code",
   "execution_count": null,
   "metadata": {},
   "outputs": [],
   "source": []
  }
 ],
 "metadata": {
  "kernelspec": {
   "display_name": "Python 3",
   "language": "python",
   "name": "python3"
  },
  "language_info": {
   "codemirror_mode": {
    "name": "ipython",
    "version": 3
   },
   "file_extension": ".py",
   "mimetype": "text/x-python",
   "name": "python",
   "nbconvert_exporter": "python",
   "pygments_lexer": "ipython3",
   "version": "3.8.5"
  }
 },
 "nbformat": 4,
 "nbformat_minor": 4
}
