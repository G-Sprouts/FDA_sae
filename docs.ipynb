{
 "cells": [
  {
   "cell_type": "markdown",
   "source": [
    "# Functions documentation"
   ],
   "metadata": {}
  },
  {
   "cell_type": "markdown",
   "source": [
    "## Use these functions in succession to create a custom dataset. If you would like, clone this repository and adjust the functions to include the features of your liking. "
   ],
   "metadata": {}
  },
  {
   "cell_type": "markdown",
   "source": [
    "### *sorter (files)\r\n",
    "\r\n",
    "* Convert all values in 'prod_ai' column to string values, and then separate non-nan values for class mapping.\r\n",
    "\r\n",
    "* The 'prod_ai' (product active ingredient) column is used for this and downstream functions because unlike the brand name, an active ingredient/generic name may have a shared suffix with other medications, which makes the mapping functions computationally efficient.\r\n",
    "\r\n",
    "* Append each sorted dataframe as a list to allow mapping function iterations to run separately and maintain data integrity.\r\n",
    "* The top_indices argument slices a pd.value_counts() output to return the indices of the top pd.value_counts() of the prod_ai column."
   ],
   "metadata": {}
  },
  {
   "cell_type": "code",
   "execution_count": null,
   "source": [
    "class_dfs = []\r\n",
    "missing_dfs = []\r\n",
    "positives = []\r\n",
    "indices = []\r\n",
    "grouped_list = []\r\n",
    "\r\n",
    "def sorter(drug_file_path,top_indices=None):\r\n",
    "    \r\n",
    "    grouped_list = []\r\n",
    "    drug_file = pd.read_csv(drug_file_path, delimiter='$')\r\n",
    "\r\n",
    "    drug_file.prod_ai = drug_file.prod_ai.astype(str)\r\n",
    "    drug_file.prod_ai = drug_file.prod_ai.map(lambda x: x.replace('.', ''))\r\n",
    "    \r\n",
    "    index = drug_file[drug_file.prod_ai != 'nan'].index\r\n",
    "    nan_index = drug_file[drug_file.prod_ai == 'nan'].index\r\n",
    "    \r\n",
    "    present = drug_file.prod_ai.loc[index]\r\n",
    "    present_primaryids = drug_file.primaryid.loc[index]\r\n",
    "    \r\n",
    "    absent = drug_file.prod_ai.loc[nan_index]\r\n",
    "    absent_primaryids = drug_file.primaryid.loc[nan_index]\r\n",
    "    \r\n",
    "    class_df = pd.DataFrame(columns=['primaryid', 'prod_ai', 'class_id', 'class', 'indication'])\r\n",
    "    missing_df = pd.DataFrame(columns=['primaryid', 'prod_ai', 'class_id', 'class', 'indication'])\r\n",
    "    \r\n",
    "    class_df.primaryid = present_primaryids\r\n",
    "    class_df.prod_ai = present\r\n",
    "    \r\n",
    "    missing_df = absent_primaryids\r\n",
    "    missing_df.prod_ai = absent\r\n",
    "    \r\n",
    "    if top_indices == None:\r\n",
    "        top_indices = -1\r\n",
    "    grouped_list = [class_df[class_df.loc[:,'prod_ai'] == x].index for x in class_df.prod_ai.value_counts()[:top_indices].index]\r\n",
    "    class_df = class_df.loc[itertools.chain.from_iterable(grouped_list)]\r\n",
    "    \r\n",
    "    \r\n",
    "    class_dfs.append([class_df])\r\n",
    "    missing_dfs.append([missing_df])\r\n",
    "    positives.append([present])\r\n",
    "    indices.append([index])\r\n",
    "    \r\n",
    "    print('Check \"class_dfs\", \"missing_dfs\", \"positives\" and \"indices\" for output')"
   ],
   "outputs": [],
   "metadata": {}
  },
  {
   "cell_type": "markdown",
   "source": [
    "### *map_1(class_df,array_split)\n",
    "\n",
    "* First round of mapping logic.\n",
    "* The array_split parameter is passed through each round of logic and is used within the final round of mapping (map_5). This integer value tells a final if/else statement whether the split dataframe has its full parts within a list, in which case it will concatenate the parts into the size of the original dataframe (minus values that did not meet mapping logic conditions). See 'for loop' example at bottom.\n",
    "* At completion of iteration, separate mapped drug names and indices from drug names and indices where no class was mapped, then send the unmapped entries into the next mapping function.\n",
    "     * Instead of sending each original dataframe through the full mapping logic, which is extremely computationally expensive, split the dataframe with numpy function np.array_split(), and send each section through the logic, and separate the entries that returned nan. That smaller dataframe is then sent through the next mapping function, which has the same .loc separater steps, and then send an even smaller dataframe through the third round of logic and so on.\n",
    "     * This cascade-style mapping proves to be very efficient, especially when handling 1.5+ million observations per dataframe.\n",
    "\n",
    "* Create local variable for mapped entries, and send that to next function to merge with the next round of mapped entries."
   ],
   "metadata": {}
  },
  {
   "cell_type": "code",
   "execution_count": null,
   "source": [
    "def map_1(class_df, array_split):\r\n",
    "\r\n",
    "    for x,y in zip(class_df.prod_ai,class_df.index):\r\n",
    "    \r\n",
    "        (mapping logic)...\r\n",
    "        \r\n",
    "    \r\n",
    "    class_df.class_id = class_df.class_id.astype(str)\r\n",
    "    lead_df = class_df[class_df.class_id != 'nan']\r\n",
    "    df_2 = class_df[class_df.class_id == 'nan']\r\n",
    "    \r\n",
    "    idx = df_2.index\r\n",
    "    drugs = df_2.prod_ai\r\n",
    "   \r\n",
    "    return map_2(df_2,drugs,idx,lead_df,array_split)"
   ],
   "outputs": [],
   "metadata": {}
  },
  {
   "cell_type": "markdown",
   "source": [
    "### *map_2(class_df,drugs,idx,lead_df,array_split)\n",
    "\n",
    "* Second round of mapping logic.\n",
    "* See map_1 for explanation...\n",
    "* Create local variable of concatenated dataframes, and send that to next function to merge with the next round of mapped entries."
   ],
   "metadata": {}
  },
  {
   "cell_type": "code",
   "execution_count": null,
   "source": [
    "def map_2(class_df,drugs,idx,lead_df,array_split):\r\n",
    "\r\n",
    "    for x,y in zip(drugs,idx):\r\n",
    "    \r\n",
    "        (mapping logic)...\r\n",
    "        \r\n",
    "    class_df.class_id = class_df.class_id.astype(str)\r\n",
    "            \r\n",
    "    df_2 = class_df[class_df.class_id != 'nan']\r\n",
    "    df_3 = class_df[class_df.class_id == 'nan']\r\n",
    "    final_df = pd.concat([lead_df, df_2])\r\n",
    "    \r\n",
    "    idx = df_3.index\r\n",
    "    drugs = df_3.prod_ai\r\n",
    "    \r\n",
    "    return map_3(df_3,drugs,idx, final_df,array_split)"
   ],
   "outputs": [],
   "metadata": {}
  },
  {
   "cell_type": "markdown",
   "source": [
    "### *map_3(class_df,drugs,idx, final_df,array_split)\n",
    "\n",
    "* Third round of mapping logic.\n",
    "* see map_1 for explanation...\n",
    "* Create local variable of concatenated dataframes, and send that to next function to merge with the next round of mapped entries."
   ],
   "metadata": {}
  },
  {
   "cell_type": "code",
   "execution_count": null,
   "source": [
    "def map_3(class_df,drugs,idx,final_df,array_split):\r\n",
    "    \r\n",
    "    for x,y in zip(drugs,idx):\r\n",
    "        \r\n",
    "        (mapping logic)...\r\n",
    "        \r\n",
    "    class_df.class_id = class_df.class_id.astype(str)\r\n",
    "            \r\n",
    "    df_3 = class_df[class_df.class_id != 'nan']\r\n",
    "    df_4 = class_df[class_df.class_id == 'nan']\r\n",
    "    final_df = pd.concat([final_df, df_3])\r\n",
    "    \r\n",
    "    idx = df_4.index\r\n",
    "    drugs = df_4.prod_ai\r\n",
    "    \r\n",
    "    return map_4(df_4,drugs,idx,final_df, array_split)"
   ],
   "outputs": [],
   "metadata": {}
  },
  {
   "cell_type": "markdown",
   "source": [
    "### *map_4(class_df,drugs,idx,final_df,array_split)\n",
    "* Fourth round of mapping logic.\n",
    "* See map_1 for explanation...\n",
    "* Create local variable of concatenated dataframes, and send that to next function to merge with the next round of mapped entries."
   ],
   "metadata": {}
  },
  {
   "cell_type": "code",
   "execution_count": null,
   "source": [
    "def map_4(class_df,drugs,idx,final_df,array_split):\r\n",
    "    \r\n",
    "    for x,y in zip(drugs,idx):\r\n",
    "        \r\n",
    "    class_df.class_id = class_df.class_id.astype(str)\r\n",
    "            \r\n",
    "    df_4 = class_df[class_df.class_id != 'nan']\r\n",
    "    df_5 = class_df[class_df.class_id == 'nan']\r\n",
    "    final_df = pd.concat([final_df, df_4])\r\n",
    "    \r\n",
    "    idx = df_5.index\r\n",
    "    drugs = df_5.prod_ai\r\n",
    "    \r\n",
    "    return map_5(df_5,drugs,idx,final_df,array_split)\r\n",
    "    "
   ],
   "outputs": [],
   "metadata": {}
  },
  {
   "cell_type": "markdown",
   "source": [
    "### *map_5(class_df,drugs,idx,final_df,array_split)\n",
    "* Create local variable of concatenated dataframes and a dataframe of all entries that did not meet any of the mapping logic, then append each into their respective global list to examine once functions are completed.\n",
    "* The final if/else statement checks if each section of the original dataframe is present in a list, and then concatenates the list to recreate the original dataframe (minus values that did not meet mapping logic)."
   ],
   "metadata": {}
  },
  {
   "cell_type": "code",
   "execution_count": null,
   "source": [
    "final_dfs = []\r\n",
    "miss_dfs = []\r\n",
    "final_storage_list = []\r\n",
    "final_missing_storage_list = []\r\n",
    "\r\n",
    "def map_5(class_df,drugs,idx, final_df,array_split):\r\n",
    "    \r\n",
    "    for x,y in zip(drugs,idx):\r\n",
    "        \r\n",
    "    class_df.class_id = class_df.class_id.astype(str)\r\n",
    "    miss_df = class_df[class_df.class_id == 'nan']\r\n",
    "    class_df = class_df[class_df.class_id != 'nan']\r\n",
    "    final_df = pd.concat([final_df, class_df])\r\n",
    "    \r\n",
    "    global final_storage_list\r\n",
    "    global final_missing_storage_list\r\n",
    "    \r\n",
    "    final_storage_list.append(final_df)\r\n",
    "    final_missing_storage_list.append(miss_df)\r\n",
    "    \r\n",
    "    if len(final_storage_list) == array_split:\r\n",
    "        final_df = pd.concat(final_storage_list)\r\n",
    "        final_df = final_df.sort_values(by='primaryid').reset_index(drop=True)\r\n",
    "        final_dfs.append(final_df)\r\n",
    "        \r\n",
    "        miss_df = pd.concat(final_missing_storage_list)\r\n",
    "        miss_df = miss_df.sort_values(by='primaryid').reset_index(drop=True)\r\n",
    "        miss_dfs.append(miss_df)\r\n",
    "\r\n",
    "        \r\n",
    "        final_storage_list = []\r\n",
    "        final_missing_storage = []\r\n",
    "        \r\n",
    "    else:\r\n",
    "        pass"
   ],
   "outputs": [],
   "metadata": {}
  },
  {
   "cell_type": "markdown",
   "source": [
    "### Example for loop usage"
   ],
   "metadata": {}
  },
  {
   "cell_type": "code",
   "execution_count": null,
   "source": [
    "for c in class_dfs:\r\n",
    "    for class_df in c:\r\n",
    "        for df in np.array_split(class_df,100):\r\n",
    "            map_1(df,100)"
   ],
   "outputs": [],
   "metadata": {}
  },
  {
   "cell_type": "markdown",
   "source": [
    "### *reacs_map(reacs)\n",
    "* Create dictionary of primaryids as key, and pt (Preferred Term) reaction as value(s). \n",
    "* Iterate through dictionary, join values and create dataframe."
   ],
   "metadata": {}
  },
  {
   "cell_type": "code",
   "execution_count": null,
   "source": [
    "def reacs_map(reactions__file_path):\r\n",
    "    \r\n",
    "    reactions_by_id = {}\r\n",
    "    with open(reactions__file_path) as csvfile:\r\n",
    "        reacreader = csv.reader(csvfile, delimiter='$')\r\n",
    "        next(reacreader) \r\n",
    "         \r\n",
    "        for row in reacreader:\r\n",
    "\r\n",
    "            ptlist = reactions_by_id.get(row[0], [])\r\n",
    "            ptlist.append(row[2])\r\n",
    "            reactions_by_id[row[0]] = ptlist\r\n",
    "\r\n",
    "        reactions_by_id_list.append(reactions_by_id) \r\n",
    "        \r\n",
    "            \r\n",
    "    reac_df = pd.DataFrame(reactions_by_id.keys(), columns=(['primaryid']))\r\n",
    "    reac_df = reac_df.sort_values(by='primaryid').set_index('primaryid')\r\n",
    "    reac_df['pt'] = 'nan'\r\n",
    "    \r\n",
    "    for k,v in reactions_by_id.items():\r\n",
    "        reac_df.loc[k, 'pt'] = ' , '.join(v)\r\n",
    "    final_reacs.append(reac_df)\r\n",
    "    \r\n",
    "    print('completed')"
   ],
   "outputs": [],
   "metadata": {}
  },
  {
   "cell_type": "markdown",
   "source": [
    "### *outs_map(outs) \n",
    "* Create dictionary of primaryids as key, and out_code (Outcome Code) as value(s).\n",
    "* Iterate through dictionary, join values, and create dataframe."
   ],
   "metadata": {}
  },
  {
   "cell_type": "code",
   "execution_count": null,
   "source": [
    "def outs_map(outcomes_file_path):\r\n",
    "    \r\n",
    "    outcomes_by_id = {}\r\n",
    "    with open(outcomes_file_path) as csvfile:\r\n",
    "        outcreader = csv.reader(csvfile, delimiter='$')\r\n",
    "        next(outcreader)\r\n",
    "        \r\n",
    "        for row in outcreader:\r\n",
    "            ptlist = outcomes_by_id.get(row[0], [])\r\n",
    "            ptlist.append(row[2])\r\n",
    "            outcomes_by_id[row[0]] = ptlist\r\n",
    "        outcomes_by_id_list.append(outcomes_by_id)\r\n",
    "        \r\n",
    "\r\n",
    "    out_df = pd.DataFrame(outcomes_by_id.keys(), columns=(['primaryid']))\r\n",
    "    out_df = out_df.sort_values(by='primaryid').set_index('primaryid')\r\n",
    "    out_df['out_code'] = 'nan'\r\n",
    "       \r\n",
    "    for k,v in outcomes_by_id.items():\r\n",
    "        out_df.loc[k,'out_code'] = ' , '.join(v)\r\n",
    "    final_outs.append(out_df)\r\n",
    "    \r\n",
    "    print('done')"
   ],
   "outputs": [],
   "metadata": {}
  },
  {
   "cell_type": "markdown",
   "source": [
    "### *db_push(host,dbname,user,password,filepath,db_table,columns,sep)\r\n",
    "* Leverage psycopg2 to access a local PostgreSQL database for storage and queries.\r\n",
    "* Read [psycopg2](https://www.psycopg.org/docs/index.html) documentation for further details.   "
   ],
   "metadata": {}
  },
  {
   "cell_type": "code",
   "execution_count": null,
   "source": [
    "def db_push(host,dbname,user,password,filepath,db_table,columns, sep):\r\n",
    "    conn = psycopg2.connect(host=host, dbname=dbname, user=user, password=password)\r\n",
    "    cur = conn.cursor()\r\n",
    "\r\n",
    "    for path in glob.iglob(filepath):\r\n",
    "\r\n",
    "        with open(path, 'r') as f:\r\n",
    "            next(f)\r\n",
    "            cur.copy_from(f, db_table, columns=columns,sep=sep)\r\n",
    "\r\n",
    "    conn.commit()\r\n",
    "    conn.close()"
   ],
   "outputs": [],
   "metadata": {}
  }
 ],
 "metadata": {
  "kernelspec": {
   "display_name": "Python 3",
   "language": "python",
   "name": "python3"
  },
  "language_info": {
   "codemirror_mode": {
    "name": "ipython",
    "version": 3
   },
   "file_extension": ".py",
   "mimetype": "text/x-python",
   "name": "python",
   "nbconvert_exporter": "python",
   "pygments_lexer": "ipython3",
   "version": "3.8.5"
  }
 },
 "nbformat": 4,
 "nbformat_minor": 4
}