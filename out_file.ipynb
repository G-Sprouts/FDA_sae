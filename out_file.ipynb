{
 "cells": [
  {
   "cell_type": "code",
   "execution_count": null,
   "metadata": {},
   "outputs": [],
   "source": [
    "import pandas as pd"
   ]
  },
  {
   "cell_type": "code",
   "execution_count": null,
   "metadata": {},
   "outputs": [],
   "source": [
    "out_file = pd.read_csv('OUTC20Q3.txt', delimiter='$')\n"
   ]
  },
  {
   "cell_type": "markdown",
   "metadata": {},
   "source": [
    "### This file represents the medical coded outcomes for a patient's reported reaction. For example, if a patient experienced an intentinal obstruction and they were hospitalized and then had another related complication, there will be 2 lines for the given primaryid/caseid, signifying the progression of condition of the patient. \n",
    "\n",
    "### Example below\n",
    "\n"
   ]
  },
  {
   "cell_type": "code",
   "execution_count": null,
   "metadata": {},
   "outputs": [],
   "source": [
    "### The below example shows that this patient had experienced a 'Hospitalization - Initial or Prolonged' (HO) from their \n",
    "### medication therapy, and then later experienced an 'Other Serious' (Important Medical Event) directly caused by the\n",
    "### initial reaction\n",
    "\n",
    "file = out_file[out_file.caseid==10004820]\n",
    "file"
   ]
  },
  {
   "cell_type": "code",
   "execution_count": null,
   "metadata": {},
   "outputs": [],
   "source": [
    "### No missing values in this file\n",
    "\n",
    "\n",
    "null_df = pd.DataFrame(out_file.isnull().sum()).reset_index()\n",
    "null_df.columns = ['column', 'missing_values']\n",
    "null_df"
   ]
  },
  {
   "cell_type": "code",
   "execution_count": null,
   "metadata": {},
   "outputs": [],
   "source": []
  }
 ],
 "metadata": {
  "kernelspec": {
   "display_name": "Python 3",
   "language": "python",
   "name": "python3"
  },
  "language_info": {
   "codemirror_mode": {
    "name": "ipython",
    "version": 3
   },
   "file_extension": ".py",
   "mimetype": "text/x-python",
   "name": "python",
   "nbconvert_exporter": "python",
   "pygments_lexer": "ipython3",
   "version": "3.8.5"
  }
 },
 "nbformat": 4,
 "nbformat_minor": 4
}
