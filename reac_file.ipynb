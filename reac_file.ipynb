{
 "cells": [
  {
   "cell_type": "code",
   "execution_count": 1,
   "metadata": {},
   "outputs": [],
   "source": [
    "import pandas as pd"
   ]
  },
  {
   "cell_type": "code",
   "execution_count": 2,
   "metadata": {},
   "outputs": [],
   "source": [
    "reac_file = pd.read_csv('REAC20Q3.txt', delimiter='$')"
   ]
  },
  {
   "cell_type": "markdown",
   "metadata": {},
   "source": [
    "### This file represents the patient's experienced reaction to thier medication therapy. Some patients expereinced multiple reactions, and they are listed on separate lines in no particular order (no indication of significance or progression). "
   ]
  },
  {
   "cell_type": "code",
   "execution_count": 15,
   "metadata": {},
   "outputs": [
    {
     "data": {
      "text/html": [
       "<div>\n",
       "<style scoped>\n",
       "    .dataframe tbody tr th:only-of-type {\n",
       "        vertical-align: middle;\n",
       "    }\n",
       "\n",
       "    .dataframe tbody tr th {\n",
       "        vertical-align: top;\n",
       "    }\n",
       "\n",
       "    .dataframe thead th {\n",
       "        text-align: right;\n",
       "    }\n",
       "</style>\n",
       "<table border=\"1\" class=\"dataframe\">\n",
       "  <thead>\n",
       "    <tr style=\"text-align: right;\">\n",
       "      <th></th>\n",
       "      <th>primaryid</th>\n",
       "      <th>caseid</th>\n",
       "      <th>pt</th>\n",
       "      <th>drug_rec_act</th>\n",
       "    </tr>\n",
       "  </thead>\n",
       "  <tbody>\n",
       "    <tr>\n",
       "      <th>0</th>\n",
       "      <td>100046943</td>\n",
       "      <td>10004694</td>\n",
       "      <td>Cataract</td>\n",
       "      <td>NaN</td>\n",
       "    </tr>\n",
       "    <tr>\n",
       "      <th>1</th>\n",
       "      <td>100046943</td>\n",
       "      <td>10004694</td>\n",
       "      <td>Type 2 diabetes mellitus</td>\n",
       "      <td>NaN</td>\n",
       "    </tr>\n",
       "    <tr>\n",
       "      <th>2</th>\n",
       "      <td>100048208</td>\n",
       "      <td>10004820</td>\n",
       "      <td>Intestinal obstruction</td>\n",
       "      <td>NaN</td>\n",
       "    </tr>\n",
       "    <tr>\n",
       "      <th>3</th>\n",
       "      <td>100048232</td>\n",
       "      <td>10004823</td>\n",
       "      <td>Type 2 diabetes mellitus</td>\n",
       "      <td>NaN</td>\n",
       "    </tr>\n",
       "    <tr>\n",
       "      <th>4</th>\n",
       "      <td>100049343</td>\n",
       "      <td>10004934</td>\n",
       "      <td>Type 2 diabetes mellitus</td>\n",
       "      <td>NaN</td>\n",
       "    </tr>\n",
       "    <tr>\n",
       "      <th>...</th>\n",
       "      <td>...</td>\n",
       "      <td>...</td>\n",
       "      <td>...</td>\n",
       "      <td>...</td>\n",
       "    </tr>\n",
       "    <tr>\n",
       "      <th>1454039</th>\n",
       "      <td>99988881</td>\n",
       "      <td>9998888</td>\n",
       "      <td>Malignant melanoma</td>\n",
       "      <td>NaN</td>\n",
       "    </tr>\n",
       "    <tr>\n",
       "      <th>1454040</th>\n",
       "      <td>99989772</td>\n",
       "      <td>9998977</td>\n",
       "      <td>Renal failure</td>\n",
       "      <td>NaN</td>\n",
       "    </tr>\n",
       "    <tr>\n",
       "      <th>1454041</th>\n",
       "      <td>99990442</td>\n",
       "      <td>9999044</td>\n",
       "      <td>Subarachnoid haemorrhage</td>\n",
       "      <td>NaN</td>\n",
       "    </tr>\n",
       "    <tr>\n",
       "      <th>1454042</th>\n",
       "      <td>999913118</td>\n",
       "      <td>9999131</td>\n",
       "      <td>Basal cell carcinoma</td>\n",
       "      <td>NaN</td>\n",
       "    </tr>\n",
       "    <tr>\n",
       "      <th>1454043</th>\n",
       "      <td>999913118</td>\n",
       "      <td>9999131</td>\n",
       "      <td>Squamous cell carcinoma</td>\n",
       "      <td>NaN</td>\n",
       "    </tr>\n",
       "  </tbody>\n",
       "</table>\n",
       "<p>1454044 rows × 4 columns</p>\n",
       "</div>"
      ],
      "text/plain": [
       "         primaryid    caseid                        pt drug_rec_act\n",
       "0        100046943  10004694                  Cataract          NaN\n",
       "1        100046943  10004694  Type 2 diabetes mellitus          NaN\n",
       "2        100048208  10004820    Intestinal obstruction          NaN\n",
       "3        100048232  10004823  Type 2 diabetes mellitus          NaN\n",
       "4        100049343  10004934  Type 2 diabetes mellitus          NaN\n",
       "...            ...       ...                       ...          ...\n",
       "1454039   99988881   9998888        Malignant melanoma          NaN\n",
       "1454040   99989772   9998977             Renal failure          NaN\n",
       "1454041   99990442   9999044  Subarachnoid haemorrhage          NaN\n",
       "1454042  999913118   9999131      Basal cell carcinoma          NaN\n",
       "1454043  999913118   9999131   Squamous cell carcinoma          NaN\n",
       "\n",
       "[1454044 rows x 4 columns]"
      ]
     },
     "execution_count": 15,
     "metadata": {},
     "output_type": "execute_result"
    }
   ],
   "source": [
    "reac_file"
   ]
  },
  {
   "cell_type": "code",
   "execution_count": 10,
   "metadata": {},
   "outputs": [
    {
     "data": {
      "text/html": [
       "<div>\n",
       "<style scoped>\n",
       "    .dataframe tbody tr th:only-of-type {\n",
       "        vertical-align: middle;\n",
       "    }\n",
       "\n",
       "    .dataframe tbody tr th {\n",
       "        vertical-align: top;\n",
       "    }\n",
       "\n",
       "    .dataframe thead th {\n",
       "        text-align: right;\n",
       "    }\n",
       "</style>\n",
       "<table border=\"1\" class=\"dataframe\">\n",
       "  <thead>\n",
       "    <tr style=\"text-align: right;\">\n",
       "      <th></th>\n",
       "      <th>column</th>\n",
       "      <th>missing_values</th>\n",
       "    </tr>\n",
       "  </thead>\n",
       "  <tbody>\n",
       "    <tr>\n",
       "      <th>0</th>\n",
       "      <td>primaryid</td>\n",
       "      <td>0</td>\n",
       "    </tr>\n",
       "    <tr>\n",
       "      <th>1</th>\n",
       "      <td>caseid</td>\n",
       "      <td>0</td>\n",
       "    </tr>\n",
       "    <tr>\n",
       "      <th>2</th>\n",
       "      <td>pt</td>\n",
       "      <td>0</td>\n",
       "    </tr>\n",
       "    <tr>\n",
       "      <th>3</th>\n",
       "      <td>drug_rec_act</td>\n",
       "      <td>1451628</td>\n",
       "    </tr>\n",
       "  </tbody>\n",
       "</table>\n",
       "</div>"
      ],
      "text/plain": [
       "         column  missing_values\n",
       "0     primaryid               0\n",
       "1        caseid               0\n",
       "2            pt               0\n",
       "3  drug_rec_act         1451628"
      ]
     },
     "execution_count": 10,
     "metadata": {},
     "output_type": "execute_result"
    }
   ],
   "source": [
    "### quantify missing values in file\n",
    "\n",
    "\n",
    "null_df = pd.DataFrame(reac_file.isnull().sum()).reset_index()\n",
    "null_df.columns=['column', 'missing_values']\n",
    "null_df"
   ]
  },
  {
   "cell_type": "code",
   "execution_count": 20,
   "metadata": {},
   "outputs": [
    {
     "data": {
      "text/html": [
       "<div>\n",
       "<style scoped>\n",
       "    .dataframe tbody tr th:only-of-type {\n",
       "        vertical-align: middle;\n",
       "    }\n",
       "\n",
       "    .dataframe tbody tr th {\n",
       "        vertical-align: top;\n",
       "    }\n",
       "\n",
       "    .dataframe thead th {\n",
       "        text-align: right;\n",
       "    }\n",
       "</style>\n",
       "<table border=\"1\" class=\"dataframe\">\n",
       "  <thead>\n",
       "    <tr style=\"text-align: right;\">\n",
       "      <th></th>\n",
       "      <th>primaryid</th>\n",
       "      <th>caseid</th>\n",
       "      <th>pt</th>\n",
       "      <th>drug_rec_act</th>\n",
       "    </tr>\n",
       "  </thead>\n",
       "  <tbody>\n",
       "    <tr>\n",
       "      <th>0</th>\n",
       "      <td>100046943</td>\n",
       "      <td>10004694</td>\n",
       "      <td>Cataract</td>\n",
       "      <td>NaN</td>\n",
       "    </tr>\n",
       "    <tr>\n",
       "      <th>1</th>\n",
       "      <td>100046943</td>\n",
       "      <td>10004694</td>\n",
       "      <td>Type 2 diabetes mellitus</td>\n",
       "      <td>NaN</td>\n",
       "    </tr>\n",
       "  </tbody>\n",
       "</table>\n",
       "</div>"
      ],
      "text/plain": [
       "   primaryid    caseid                        pt drug_rec_act\n",
       "0  100046943  10004694                  Cataract          NaN\n",
       "1  100046943  10004694  Type 2 diabetes mellitus          NaN"
      ]
     },
     "execution_count": 20,
     "metadata": {},
     "output_type": "execute_result"
    }
   ],
   "source": [
    "### This patient experienced a Cataract and Type 2 diabetes mellitus from their drug therapy. These events are not listed in \n",
    "### any order of significance\n",
    "\n",
    "\n",
    "file = reac_file[reac_file.caseid == 10004694]\n",
    "file"
   ]
  },
  {
   "cell_type": "code",
   "execution_count": 19,
   "metadata": {},
   "outputs": [
    {
     "data": {
      "text/plain": [
       "Headache                        60\n",
       "Nausea                          43\n",
       "Diarrhoea                       41\n",
       "Fatigue                         38\n",
       "Dizziness                       32\n",
       "                                ..\n",
       "Pericardial effusion             1\n",
       "Toxoplasmosis                    1\n",
       "Left ventricular dysfunction     1\n",
       "Sleep disorder                   1\n",
       "Cardiogenic shock                1\n",
       "Name: drug_rec_act, Length: 854, dtype: int64"
      ]
     },
     "execution_count": 19,
     "metadata": {},
     "output_type": "execute_result"
    }
   ],
   "source": [
    "### These values correspond to symptoms observed after a patient restarts their drug therapy. Populated with reac_file.pt \n",
    "### observations\n",
    "\n",
    "reac_file.drug_rec_act.value_counts()"
   ]
  },
  {
   "cell_type": "code",
   "execution_count": null,
   "metadata": {},
   "outputs": [],
   "source": []
  }
 ],
 "metadata": {
  "kernelspec": {
   "display_name": "Python 3",
   "language": "python",
   "name": "python3"
  },
  "language_info": {
   "codemirror_mode": {
    "name": "ipython",
    "version": 3
   },
   "file_extension": ".py",
   "mimetype": "text/x-python",
   "name": "python",
   "nbconvert_exporter": "python",
   "pygments_lexer": "ipython3",
   "version": "3.8.5"
  }
 },
 "nbformat": 4,
 "nbformat_minor": 4
}
