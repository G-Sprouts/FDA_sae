{
 "cells": [
  {
   "cell_type": "code",
   "execution_count": null,
   "metadata": {},
   "outputs": [],
   "source": [
    "import pandas as pd"
   ]
  },
  {
   "cell_type": "code",
   "execution_count": null,
   "metadata": {},
   "outputs": [],
   "source": [
    "reac_file = pd.read_csv('REAC20Q3.txt', delimiter='$')"
   ]
  },
  {
   "cell_type": "markdown",
   "metadata": {},
   "source": [
    "### This file represents the patient's experienced reaction to thier medication therapy. Some patients expereinced multiple reactions, and they are listed on separate lines in no particular order (no indication of significance or progression). "
   ]
  },
  {
   "cell_type": "code",
   "execution_count": null,
   "metadata": {},
   "outputs": [],
   "source": [
    "reac_file"
   ]
  },
  {
   "cell_type": "code",
   "execution_count": null,
   "metadata": {},
   "outputs": [],
   "source": [
    "### quantify missing values in file\n",
    "\n",
    "\n",
    "null_df = pd.DataFrame(reac_file.isnull().sum()).reset_index()\n",
    "null_df.columns=['column', 'missing_values']\n",
    "null_df"
   ]
  },
  {
   "cell_type": "code",
   "execution_count": null,
   "metadata": {},
   "outputs": [],
   "source": [
    "### This patient experienced a Cataract and Type 2 diabetes mellitus from their drug therapy. These events are not listed in \n",
    "### any order of significance\n",
    "\n",
    "\n",
    "file = reac_file[reac_file.caseid == 10004694]\n",
    "file"
   ]
  },
  {
   "cell_type": "code",
   "execution_count": null,
   "metadata": {},
   "outputs": [],
   "source": [
    "### These values correspond to symptoms observed after a patient restarts their drug therapy. Populated with reac_file.pt \n",
    "### observations\n",
    "\n",
    "reac_file.drug_rec_act.value_counts()"
   ]
  },
  {
   "cell_type": "code",
   "execution_count": null,
   "metadata": {},
   "outputs": [],
   "source": []
  }
 ],
 "metadata": {
  "kernelspec": {
   "display_name": "Python 3",
   "language": "python",
   "name": "python3"
  },
  "language_info": {
   "codemirror_mode": {
    "name": "ipython",
    "version": 3
   },
   "file_extension": ".py",
   "mimetype": "text/x-python",
   "name": "python",
   "nbconvert_exporter": "python",
   "pygments_lexer": "ipython3",
   "version": "3.8.5"
  }
 },
 "nbformat": 4,
 "nbformat_minor": 4
}
